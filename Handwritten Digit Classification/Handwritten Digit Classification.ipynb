{
 "cells": [
  {
   "cell_type": "markdown",
   "id": "a9e32828",
   "metadata": {},
   "source": [
    "# Data Science TASK-3"
   ]
  },
  {
   "cell_type": "markdown",
   "id": "ab56cf10",
   "metadata": {},
   "source": [
    " ***Author :- KSHITIZ VERMA***"
   ]
  },
  {
   "cell_type": "markdown",
   "id": "ef949a10",
   "metadata": {},
   "source": [
    "***Handwritten Digit Classification Challenge (ADVANCED LEVEL TASK)***"
   ]
  },
  {
   "cell_type": "markdown",
   "id": "9acc20a0",
   "metadata": {},
   "source": [
    "### Importing important libraries"
   ]
  },
  {
   "cell_type": "code",
   "execution_count": 1,
   "id": "774b789c",
   "metadata": {},
   "outputs": [],
   "source": [
    "import tensorflow as tf\n",
    "from tensorflow import keras\n",
    "import matplotlib.pyplot as plt\n",
    "%matplotlib inline\n",
    "import numpy as np"
   ]
  },
  {
   "cell_type": "markdown",
   "id": "2fd0de71",
   "metadata": {},
   "source": [
    "### Loading Data Set"
   ]
  },
  {
   "cell_type": "code",
   "execution_count": 2,
   "id": "ba320d5e",
   "metadata": {},
   "outputs": [
    {
     "data": {
      "text/plain": [
       "(60000, 10000)"
      ]
     },
     "execution_count": 2,
     "metadata": {},
     "output_type": "execute_result"
    }
   ],
   "source": [
    "(X_train, y_train) , (X_test, y_test) = keras.datasets.mnist.load_data()\n",
    "len(X_train),len(X_test)"
   ]
  },
  {
   "cell_type": "code",
   "execution_count": 3,
   "id": "4deec5f5",
   "metadata": {},
   "outputs": [],
   "source": [
    "X_train = X_train / 255\n",
    "X_test = X_test / 255"
   ]
  },
  {
   "cell_type": "code",
   "execution_count": 4,
   "id": "25f8c1d0",
   "metadata": {},
   "outputs": [
    {
     "data": {
      "text/plain": [
       "((60000, 784), (10000, 784))"
      ]
     },
     "execution_count": 4,
     "metadata": {},
     "output_type": "execute_result"
    }
   ],
   "source": [
    "X_train_flattened=X_train.reshape(len(X_train),28*28)\n",
    "X_test_flattened=X_test.reshape(len(X_test),28*28)\n",
    "X_train_flattened.shape ,X_test_flattened.shape"
   ]
  },
  {
   "cell_type": "code",
   "execution_count": 5,
   "id": "99311e57",
   "metadata": {
    "scrolled": true
   },
   "outputs": [
    {
     "name": "stdout",
     "output_type": "stream",
     "text": [
      "Epoch 1/5\n",
      "1875/1875 [==============================] - 2s 952us/step - loss: 0.4808 - accuracy: 0.8800\n",
      "Epoch 2/5\n",
      "1875/1875 [==============================] - 2s 884us/step - loss: 0.3054 - accuracy: 0.9162\n",
      "Epoch 3/5\n",
      "1875/1875 [==============================] - 2s 904us/step - loss: 0.2849 - accuracy: 0.9215\n",
      "Epoch 4/5\n",
      "1875/1875 [==============================] - 2s 845us/step - loss: 0.2747 - accuracy: 0.9241\n",
      "Epoch 5/5\n",
      "1875/1875 [==============================] - 2s 848us/step - loss: 0.2672 - accuracy: 0.9255\n"
     ]
    },
    {
     "data": {
      "text/plain": [
       "<tensorflow.python.keras.callbacks.History at 0x1def55f0e50>"
      ]
     },
     "execution_count": 5,
     "metadata": {},
     "output_type": "execute_result"
    }
   ],
   "source": [
    "model = keras.Sequential([\n",
    "    keras.layers.Dense(10, input_shape=(784,), activation='sigmoid')\n",
    "])\n",
    "\n",
    "model.compile(optimizer='adam',\n",
    "              loss='sparse_categorical_crossentropy',\n",
    "              metrics=['accuracy'])\n",
    "\n",
    "model.fit(X_train_flattened, y_train, epochs=5)"
   ]
  },
  {
   "cell_type": "markdown",
   "id": "e3dbdd17",
   "metadata": {},
   "source": [
    "#### Accuracy without Hidden layer"
   ]
  },
  {
   "cell_type": "code",
   "execution_count": 6,
   "id": "f549e6fd",
   "metadata": {},
   "outputs": [
    {
     "name": "stdout",
     "output_type": "stream",
     "text": [
      "313/313 [==============================] - 0s 612us/step - loss: 0.2751 - accuracy: 0.9221\n"
     ]
    },
    {
     "data": {
      "text/plain": [
       "[0.27514195442199707, 0.9221000075340271]"
      ]
     },
     "execution_count": 6,
     "metadata": {},
     "output_type": "execute_result"
    }
   ],
   "source": [
    "model.evaluate(X_test_flattened, y_test)"
   ]
  },
  {
   "cell_type": "code",
   "execution_count": 7,
   "id": "e3f0a960",
   "metadata": {},
   "outputs": [
    {
     "data": {
      "text/plain": [
       "array([1.5429485e-05, 9.5794928e-11, 6.0012037e-05, 1.1615217e-02,\n",
       "       9.2358027e-07, 6.2304054e-05, 7.9902418e-10, 8.1796569e-01,\n",
       "       5.5308567e-05, 7.3584914e-04], dtype=float32)"
      ]
     },
     "execution_count": 7,
     "metadata": {},
     "output_type": "execute_result"
    }
   ],
   "source": [
    "y_predicted = model.predict(X_test_flattened)\n",
    "y_predicted[0]"
   ]
  },
  {
   "cell_type": "code",
   "execution_count": 8,
   "id": "01867b74",
   "metadata": {},
   "outputs": [
    {
     "data": {
      "text/plain": [
       "<matplotlib.image.AxesImage at 0x1defe3b3070>"
      ]
     },
     "execution_count": 8,
     "metadata": {},
     "output_type": "execute_result"
    },
    {
     "data": {
      "image/png": "[encoded data removed]",
      "text/plain": [
       "<Figure size 288x288 with 1 Axes>"
      ]
     },
     "metadata": {
      "needs_background": "light"
     },
     "output_type": "display_data"
    }
   ],
   "source": [
    "plt.matshow(X_test[0])"
   ]
  },
  {
   "cell_type": "code",
   "execution_count": 9,
   "id": "cb540a74",
   "metadata": {},
   "outputs": [
    {
     "data": {
      "text/plain": [
       "7"
      ]
     },
     "execution_count": 9,
     "metadata": {},
     "output_type": "execute_result"
    }
   ],
   "source": [
    "np.argmax(y_predicted[0])"
   ]
  },
  {
   "cell_type": "code",
   "execution_count": 10,
   "id": "d48c66ba",
   "metadata": {},
   "outputs": [],
   "source": [
    "y_predicted_labels = [np.argmax(i) for i in y_predicted]"
   ]
  },
  {
   "cell_type": "code",
   "execution_count": 11,
   "id": "f2adb876",
   "metadata": {},
   "outputs": [
    {
     "data": {
      "text/plain": [
       "[7, 2, 1, 0, 4]"
      ]
     },
     "execution_count": 11,
     "metadata": {},
     "output_type": "execute_result"
    }
   ],
   "source": [
    "y_predicted_labels[:5]"
   ]
  },
  {
   "cell_type": "code",
   "execution_count": 12,
   "id": "5d82d7e1",
   "metadata": {},
   "outputs": [
    {
     "data": {
      "text/plain": [
       "<tf.Tensor: shape=(10, 10), dtype=int32, numpy=\n",
       "array([[ 961,    0,    2,    2,    0,    5,    7,    2,    1,    0],\n",
       "       [   0, 1109,    3,    2,    0,    2,    4,    2,   13,    0],\n",
       "       [   5,    7,  908,   41,    9,    4,   10,   10,   34,    4],\n",
       "       [   1,    0,   10,  958,    0,   10,    2,   10,   10,    9],\n",
       "       [   1,    1,    4,    1,  906,    0,   10,    4,    9,   46],\n",
       "       [   9,    1,    3,   58,   11,  758,   14,    8,   23,    7],\n",
       "       [  10,    3,    6,    2,    8,   13,  912,    2,    2,    0],\n",
       "       [   1,    5,   19,   13,    6,    0,    0,  952,    1,   31],\n",
       "       [   7,    5,    6,   55,    9,   28,    8,   13,  832,   11],\n",
       "       [  11,    5,    1,   15,   20,    5,    0,   24,    3,  925]])>"
      ]
     },
     "execution_count": 12,
     "metadata": {},
     "output_type": "execute_result"
    }
   ],
   "source": [
    "cm = tf.math.confusion_matrix(labels=y_test,predictions=y_predicted_labels)\n",
    "cm"
   ]
  },
  {
   "cell_type": "code",
   "execution_count": 13,
   "id": "fe00bb9a",
   "metadata": {},
   "outputs": [
    {
     "data": {
      "text/plain": [
       "Text(69.0, 0.5, 'Truth')"
      ]
     },
     "execution_count": 13,
     "metadata": {},
     "output_type": "execute_result"
    },
    {
     "data": {
      "image/png": "[encoded data removed]",
      "text/plain": [
       "<Figure size 720x504 with 2 Axes>"
      ]
     },
     "metadata": {
      "needs_background": "light"
     },
     "output_type": "display_data"
    }
   ],
   "source": [
    "import seaborn as sn\n",
    "plt.figure(figsize = (10,7))\n",
    "sn.heatmap(cm, annot=True, fmt='d')\n",
    "plt.xlabel('Predicted')\n",
    "plt.ylabel('Truth')"
   ]
  },
  {
   "cell_type": "markdown",
   "id": "c38e01fd",
   "metadata": {},
   "source": [
    "#### Adding hidden layer "
   ]
  },
  {
   "cell_type": "code",
   "execution_count": 14,
   "id": "fadcba9d",
   "metadata": {},
   "outputs": [
    {
     "name": "stdout",
     "output_type": "stream",
     "text": [
      "Epoch 1/5\n",
      "1875/1875 [==============================] - 3s 2ms/step - loss: 0.2909 - accuracy: 0.9184\n",
      "Epoch 2/5\n",
      "1875/1875 [==============================] - 2s 1ms/step - loss: 0.1383 - accuracy: 0.9601\n",
      "Epoch 3/5\n",
      "1875/1875 [==============================] - 2s 1ms/step - loss: 0.0993 - accuracy: 0.9703\n",
      "Epoch 4/5\n",
      "1875/1875 [==============================] - 2s 1ms/step - loss: 0.0788 - accuracy: 0.9758\n",
      "Epoch 5/5\n",
      "1875/1875 [==============================] - 3s 1ms/step - loss: 0.0631 - accuracy: 0.9804\n"
     ]
    },
    {
     "data": {
      "text/plain": [
       "<tensorflow.python.keras.callbacks.History at 0x1dea26a0700>"
      ]
     },
     "execution_count": 14,
     "metadata": {},
     "output_type": "execute_result"
    }
   ],
   "source": [
    "model = keras.Sequential([\n",
    "    keras.layers.Dense(100, input_shape=(784,), activation='relu') #Hidden Layer\n",
    "    ,keras.layers.Dense(10, activation='sigmoid')\n",
    "])\n",
    "\n",
    "model.compile(optimizer='adam',\n",
    "              loss='sparse_categorical_crossentropy',\n",
    "              metrics=['accuracy'])\n",
    "\n",
    "model.fit(X_train_flattened, y_train, epochs=5)"
   ]
  },
  {
   "cell_type": "markdown",
   "id": "a4d899e7",
   "metadata": {},
   "source": [
    "#### Accuracy after adding hidden layer"
   ]
  },
  {
   "cell_type": "code",
   "execution_count": 15,
   "id": "9e9cf7dd",
   "metadata": {},
   "outputs": [
    {
     "name": "stdout",
     "output_type": "stream",
     "text": [
      "313/313 [==============================] - 0s 1ms/step - loss: 0.0931 - accuracy: 0.9727\n"
     ]
    },
    {
     "data": {
      "text/plain": [
       "[0.09311062842607498, 0.9726999998092651]"
      ]
     },
     "execution_count": 15,
     "metadata": {},
     "output_type": "execute_result"
    }
   ],
   "source": [
    "model.evaluate(X_test_flattened,y_test)"
   ]
  },
  {
   "cell_type": "code",
   "execution_count": 16,
   "id": "8283152c",
   "metadata": {},
   "outputs": [
    {
     "data": {
      "text/plain": [
       "Text(69.0, 0.5, 'Truth')"
      ]
     },
     "execution_count": 16,
     "metadata": {},
     "output_type": "execute_result"
    },
    {
     "data": {
      "image/png": "[encoded data removed]",
      "text/plain": [
       "<Figure size 720x504 with 2 Axes>"
      ]
     },
     "metadata": {
      "needs_background": "light"
     },
     "output_type": "display_data"
    }
   ],
   "source": [
    "y_predicted = model.predict(X_test_flattened)\n",
    "y_predicted_labels = [np.argmax(i) for i in y_predicted]\n",
    "cm = tf.math.confusion_matrix(labels=y_test,predictions=y_predicted_labels)\n",
    "\n",
    "plt.figure(figsize = (10,7))\n",
    "sn.heatmap(cm, annot=True, fmt='d')\n",
    "plt.xlabel('Predicted')\n",
    "plt.ylabel('Truth')"
   ]
  },
  {
   "cell_type": "code",
   "execution_count": 17,
   "id": "17982b17",
   "metadata": {},
   "outputs": [
    {
     "data": {
      "text/plain": [
       "2"
      ]
     },
     "execution_count": 17,
     "metadata": {},
     "output_type": "execute_result"
    },
    {
     "data": {
      "image/png": "[encoded data removed]",
      "text/plain": [
       "<Figure size 288x288 with 1 Axes>"
      ]
     },
     "metadata": {
      "needs_background": "light"
     },
     "output_type": "display_data"
    }
   ],
   "source": [
    "plt.matshow(X_test[1])\n",
    "np.argmax(y_predicted[1])"
   ]
  },
  {
   "cell_type": "code",
   "execution_count": null,
   "id": "7e6a8320",
   "metadata": {},
   "outputs": [],
   "source": []
  }
 ],
 "metadata": {
  "kernelspec": {
   "display_name": "Python 3",
   "language": "python",
   "name": "python3"
  },
  "language_info": {
   "codemirror_mode": {
    "name": "ipython",
    "version": 3
   },
   "file_extension": ".py",
   "mimetype": "text/x-python",
   "name": "python",
   "nbconvert_exporter": "python",
   "pygments_lexer": "ipython3",
   "version": "3.8.8"
  }
 },
 "nbformat": 4,
 "nbformat_minor": 5
}
